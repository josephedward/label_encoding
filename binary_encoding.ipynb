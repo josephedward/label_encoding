{
 "cells": [
  {
   "cell_type": "markdown",
   "metadata": {},
   "source": [
    "**One-Hot Encoding**\n",
    "Each feature contains zero values, unless its class appears in the data, when it takes a value of one. "
   ]
  },
  {
   "cell_type": "code",
   "execution_count": 1,
   "metadata": {},
   "outputs": [
    {
     "output_type": "stream",
     "name": "stdout",
     "text": "[[0. 0. 0. 1.]\n [0. 0. 0. 1.]\n [0. 1. 0. 0.]\n [1. 0. 0. 0.]\n [0. 0. 1. 0.]\n [1. 0. 0. 0.]\n [1. 0. 0. 0.]\n [0. 0. 1. 0.]\n [0. 1. 0. 0.]\n [0. 0. 0. 1.]]\n"
    }
   ],
   "source": [
    "from sklearn.preprocessing import OneHotEncoder\n",
    "from sklearn.preprocessing import LabelEncoder\n",
    "lbl= LabelEncoder()\n",
    "enc = OneHotEncoder()\n",
    "qualitative =[\"red\", \"red\", \"green\", \"blue\",\"orange\",\"blue\",\"blue\", \"orange\", \"green\",\"red\"]\n",
    "labels = lbl.fit_transform(qualitative).reshape(10,1)\n",
    "print(enc.fit_transform(labels).toarray())"
   ]
  },
  {
   "cell_type": "markdown",
   "metadata": {},
   "source": [
    "**Binary Response**\n",
    "Coding a response vector as a sequence of positive and negative values. "
   ]
  },
  {
   "cell_type": "code",
   "execution_count": 1,
   "metadata": {},
   "outputs": [
    {
     "output_type": "stream",
     "name": "stdout",
     "text": "[False False False False  True  True  True  True]\n"
    }
   ],
   "source": [
    "import numpy as np\n",
    "\n",
    "a=np.array([0,0,0,0,1,1,1,1])\n",
    "b=np.array([1,2,3,4,5,6,7,8]).reshape(8,1)\n",
    "from sklearn.linear_model import LinearRegression\n",
    "regression = LinearRegression()\n",
    "regression.fit(b,a)\n",
    "print(regression.predict(b)>.5)\n",
    "\n"
   ]
  },
  {
   "cell_type": "code",
   "execution_count": null,
   "metadata": {},
   "outputs": [],
   "source": []
  }
 ],
 "metadata": {
  "language_info": {
   "codemirror_mode": {
    "name": "ipython",
    "version": 3
   },
   "file_extension": ".py",
   "mimetype": "text/x-python",
   "name": "python",
   "nbconvert_exporter": "python",
   "pygments_lexer": "ipython3",
   "version": "3.7.4-final"
  },
  "orig_nbformat": 2,
  "kernelspec": {
   "name": "python3",
   "display_name": "Python 3"
  }
 },
 "nbformat": 4,
 "nbformat_minor": 2
}